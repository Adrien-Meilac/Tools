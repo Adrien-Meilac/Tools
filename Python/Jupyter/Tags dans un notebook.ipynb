{
 "cells": [
  {
   "cell_type": "markdown",
   "metadata": {},
   "source": [
    "<div><h1> <center> Gros Titre </center> </h1></div>"
   ]
  },
  {
   "cell_type": "markdown",
   "metadata": {},
   "source": [
    "# Sommaire <a classe = \"anchor\" id = \"sommaire\"></a>\n",
    "   * [1 - Partie1](#partie1)\n",
    "       * [1 - Partie11](#partie11)\n",
    "           * [1 - Partie111](#partie111)\n",
    "           * [2 - Partie112](#partie112)\n",
    "       * [2 - Partie12](#partie12)\n",
    "   * [2 - Partie2](#partie2) "
   ]
  },
  {
   "cell_type": "markdown",
   "metadata": {},
   "source": [
    "\n",
    "\n",
    "\n",
    "\n",
    "\n",
    "\n",
    "\n",
    "\n",
    "\n",
    "\n",
    "\n",
    "\n",
    "\n",
    "\n",
    "\n",
    "\n",
    "\n",
    "\n",
    "\n",
    "\n",
    "\n",
    "\n",
    "\n",
    "\n",
    "\n",
    "\n",
    "\n",
    "\n"
   ]
  },
  {
   "cell_type": "markdown",
   "metadata": {},
   "source": [
    "<div align = \"left\"><h1>1 - Partie1</h1> <a classe =\"anchor\" id = \"partie1\"></a> </div> <div align = \"right\"><a href= \"#sommaire\">Sommaire</a></div>"
   ]
  },
  {
   "cell_type": "code",
   "execution_count": null,
   "metadata": {},
   "outputs": [],
   "source": [
    "\n",
    "\n",
    "\n",
    "\n",
    "\n",
    "\n",
    "\n",
    "\n",
    "\n",
    "\n",
    "\n",
    "\n",
    "\n",
    "\n",
    "\n",
    "\n",
    "\n",
    "\n",
    "\n",
    "\n",
    "\n",
    "\n",
    "\n",
    "\n"
   ]
  },
  {
   "cell_type": "markdown",
   "metadata": {},
   "source": [
    "<div align = \"left\"><h2><br><span style=\"margin-left:2em\">1.1 -  Partie11</span><br></h2> <a classe =\"anchor\" id = \"partie11\"></a> </div> <div align = \"right\"><a href= \"#sommaire\">Sommaire</a></div>"
   ]
  },
  {
   "cell_type": "code",
   "execution_count": null,
   "metadata": {},
   "outputs": [],
   "source": [
    "\n",
    "\n",
    "\n",
    "\n",
    "\n",
    "\n",
    "\n",
    "\n",
    "\n"
   ]
  },
  {
   "cell_type": "markdown",
   "metadata": {},
   "source": [
    "<div align = \"left\"><h3><br><span style=\"margin-left:6em\">1.1.1 - Partie111</span><br></h3> <a classe =\"anchor\" id = \"partie111\"></a> </div> <div align = \"right\"><a href= \"#sommaire\">Sommaire</a></div>"
   ]
  },
  {
   "cell_type": "code",
   "execution_count": null,
   "metadata": {},
   "outputs": [],
   "source": [
    "\n",
    "\n",
    "\n",
    "\n",
    "\n",
    "\n"
   ]
  },
  {
   "cell_type": "markdown",
   "metadata": {},
   "source": [
    "<div align = \"left\"><h3><br><span style=\"margin-left:6em\">1.1.2 - Partie112</span><br></h3> <a classe =\"anchor\" id = \"partie112\"></a> </div> <div align = \"right\"><a href= \"#sommaire\">Sommaire</a></div>"
   ]
  },
  {
   "cell_type": "code",
   "execution_count": null,
   "metadata": {},
   "outputs": [],
   "source": [
    "\n",
    "\n",
    "\n",
    "\n",
    "\n",
    "\n",
    "\n",
    "\n"
   ]
  },
  {
   "cell_type": "markdown",
   "metadata": {},
   "source": [
    "<div align = \"left\"><h2><br><span style=\"margin-left:2em\">1.2 -  Partie12</span><br></h2> <a classe =\"anchor\" id = \"partie12\"></a> </div> <div align = \"right\"><a href= \"#sommaire\">Sommaire</a></div>"
   ]
  },
  {
   "cell_type": "code",
   "execution_count": null,
   "metadata": {},
   "outputs": [],
   "source": [
    "\n",
    "\n",
    "\n",
    "\n",
    "\n",
    "\n"
   ]
  },
  {
   "cell_type": "markdown",
   "metadata": {},
   "source": [
    "<div align = \"left\"><h1>2 - Partie2</h1> <a classe =\"anchor\" id = \"partie2\"></a> </div> <div align = \"right\"><a href= \"#sommaire\">Sommaire</a></div>"
   ]
  }
 ],
 "metadata": {
  "kernelspec": {
   "display_name": "Python 3",
   "language": "python",
   "name": "python3"
  },
  "language_info": {
   "codemirror_mode": {
    "name": "ipython",
    "version": 3
   },
   "file_extension": ".py",
   "mimetype": "text/x-python",
   "name": "python",
   "nbconvert_exporter": "python",
   "pygments_lexer": "ipython3",
   "version": "3.7.7"
  }
 },
 "nbformat": 4,
 "nbformat_minor": 2
}
